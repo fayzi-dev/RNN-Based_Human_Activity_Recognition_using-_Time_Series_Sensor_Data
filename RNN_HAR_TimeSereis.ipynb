{
 "cells": [
  {
   "metadata": {
    "ExecuteTime": {
     "end_time": "2025-06-03T05:14:07.738514Z",
     "start_time": "2025-06-03T05:14:07.723479Z"
    }
   },
   "cell_type": "code",
   "source": [
    "# imports\n",
    "import torch\n",
    "import torch.nn as nn\n",
    "import torch.optim as optim\n",
    "import torch.nn.functional as F\n",
    "from sympy import false\n",
    "from torch.utils.data import TensorDataset, DataLoader, random_split\n",
    "import torch.backends.cudnn as cudnn\n",
    "\n",
    "from sklearn.model_selection import train_test_split\n",
    "import matplotlib.pyplot as plt\n",
    "import numpy as np\n",
    "import pandas as pd\n",
    "\n",
    "from torchmetrics import Accuracy\n",
    "from tqdm import tqdm\n",
    "\n",
    "import glob\n"
   ],
   "id": "3aa085f20e2e1c30",
   "outputs": [],
   "execution_count": 46
  },
  {
   "metadata": {
    "ExecuteTime": {
     "end_time": "2025-06-03T05:14:07.858389Z",
     "start_time": "2025-06-03T05:14:07.823533Z"
    }
   },
   "cell_type": "code",
   "source": [
    "#function load dataset\n",
    "def har_dataset(phase):\n",
    "    x = []\n",
    "    data_dir = f'HAR_Dataset/{phase}/Inertial Signals/*'\n",
    "    for file_dir in glob.glob(data_dir):\n",
    "        x.append(np.loadtxt(file_dir))\n",
    "    y = np.loadtxt(f'HAR_Dataset/{phase}/y_{phase}.txt')\n",
    "    #x,y to Tensor\n",
    "    x = torch.FloatTensor(x).permute(1, 2, 0)\n",
    "    y = torch.LongTensor(y) - 1\n",
    "    return x, y\n"
   ],
   "id": "5f85b2323ab638a0",
   "outputs": [],
   "execution_count": 47
  },
  {
   "metadata": {
    "ExecuteTime": {
     "end_time": "2025-06-03T05:14:14.913597Z",
     "start_time": "2025-06-03T05:14:07.883327Z"
    }
   },
   "cell_type": "code",
   "source": [
    "x_train, y_train = har_dataset('train')\n",
    "x_test, y_test = har_dataset('test')"
   ],
   "id": "473544e8c841797f",
   "outputs": [],
   "execution_count": 48
  },
  {
   "metadata": {
    "ExecuteTime": {
     "end_time": "2025-06-03T05:14:14.948538Z",
     "start_time": "2025-06-03T05:14:14.923560Z"
    }
   },
   "cell_type": "code",
   "source": "x_train.shape, y_train.shape",
   "id": "b4897ead977cbcd0",
   "outputs": [
    {
     "data": {
      "text/plain": [
       "(torch.Size([7352, 128, 9]), torch.Size([7352]))"
      ]
     },
     "execution_count": 49,
     "metadata": {},
     "output_type": "execute_result"
    }
   ],
   "execution_count": 49
  },
  {
   "metadata": {
    "ExecuteTime": {
     "end_time": "2025-06-03T05:14:15.053232Z",
     "start_time": "2025-06-03T05:14:15.023418Z"
    }
   },
   "cell_type": "code",
   "source": "x_test.shape, y_test.shape",
   "id": "90a2174857d00640",
   "outputs": [
    {
     "data": {
      "text/plain": [
       "(torch.Size([2947, 128, 9]), torch.Size([2947]))"
      ]
     },
     "execution_count": 50,
     "metadata": {},
     "output_type": "execute_result"
    }
   ],
   "execution_count": 50
  },
  {
   "metadata": {
    "ExecuteTime": {
     "end_time": "2025-06-03T05:14:15.133822Z",
     "start_time": "2025-06-03T05:14:15.115970Z"
    }
   },
   "cell_type": "code",
   "source": "y_train",
   "id": "dd9cb40524063df0",
   "outputs": [
    {
     "data": {
      "text/plain": [
       "tensor([4, 4, 4,  ..., 1, 1, 1])"
      ]
     },
     "execution_count": 51,
     "metadata": {},
     "output_type": "execute_result"
    }
   ],
   "execution_count": 51
  },
  {
   "metadata": {
    "ExecuteTime": {
     "end_time": "2025-06-03T05:14:15.273596Z",
     "start_time": "2025-06-03T05:14:15.248385Z"
    }
   },
   "cell_type": "code",
   "source": "torch.unique(y_train)",
   "id": "5cd6036b3079bb8b",
   "outputs": [
    {
     "data": {
      "text/plain": [
       "tensor([0, 1, 2, 3, 4, 5])"
      ]
     },
     "execution_count": 52,
     "metadata": {},
     "output_type": "execute_result"
    }
   ],
   "execution_count": 52
  },
  {
   "metadata": {
    "ExecuteTime": {
     "end_time": "2025-06-03T05:14:52.683526Z",
     "start_time": "2025-06-03T05:14:52.656366Z"
    }
   },
   "cell_type": "code",
   "source": [
    "# Tensor Dataset\n",
    "train_set = TensorDataset(x_train, y_train)\n",
    "test_set = TensorDataset(x_test, y_test)"
   ],
   "id": "f6eeff5daa67f909",
   "outputs": [],
   "execution_count": 53
  },
  {
   "metadata": {
    "ExecuteTime": {
     "end_time": "2025-06-03T05:15:43.170960Z",
     "start_time": "2025-06-03T05:15:43.152841Z"
    }
   },
   "cell_type": "code",
   "source": [
    "#dataloader\n",
    "train_loader = DataLoader(train_set, batch_size=64, shuffle=True)\n",
    "test_loader = DataLoader(test_set, batch_size=128, shuffle=False)"
   ],
   "id": "955bf107339a2418",
   "outputs": [],
   "execution_count": 54
  },
  {
   "metadata": {
    "ExecuteTime": {
     "end_time": "2025-06-03T05:16:46.248814Z",
     "start_time": "2025-06-03T05:16:46.207412Z"
    }
   },
   "cell_type": "code",
   "source": [
    "x, y = next(iter(train_loader))\n",
    "print(x.shape, y.shape)"
   ],
   "id": "52cc6ddfaddae4c2",
   "outputs": [
    {
     "name": "stdout",
     "output_type": "stream",
     "text": [
      "torch.Size([64, 128, 9]) torch.Size([64])\n"
     ]
    }
   ],
   "execution_count": 55
  },
  {
   "metadata": {},
   "cell_type": "code",
   "outputs": [],
   "execution_count": null,
   "source": "",
   "id": "cddb7ce5051feeb"
  }
 ],
 "metadata": {
  "kernelspec": {
   "display_name": "Python 3",
   "language": "python",
   "name": "python3"
  },
  "language_info": {
   "codemirror_mode": {
    "name": "ipython",
    "version": 2
   },
   "file_extension": ".py",
   "mimetype": "text/x-python",
   "name": "python",
   "nbconvert_exporter": "python",
   "pygments_lexer": "ipython2",
   "version": "2.7.6"
  }
 },
 "nbformat": 4,
 "nbformat_minor": 5
}
